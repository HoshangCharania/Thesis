{
 "cells": [
  {
   "cell_type": "markdown",
   "metadata": {},
   "source": [
    "# Clustering different data sources:\n",
    "\n",
    "## [1.  Loading the data sources](#section1)\n",
    "### [1.1 CSV files](#section1.1)\n",
    "### [1.2 Web Scraping of a suspicious website.](#section1.2)\n",
    "## [2. Normalizing the data sources](#section2)\n",
    "### [2.1 Values only after 1972](#section2.1)\n",
    "### [2.2 Normalized all data sources on a scale of 1 to 100](#section2.2)\n",
    "## [3. Plotting normalized Data Sources](#section3)\n",
    "## [4. Creating a model(Feature Selection-like)](#section4)\n",
    "### [4.1 Mean, Median of different distance algorithms](#section4.1)\n",
    "### [4.2 Plugging all the values into a dataframe](#section4.2)\n",
    "### [5. Clustering](#section5)\n",
    "### [5.1 Using Gaussian Mixture Model](#section5.1)\n",
    "### [5.2 Final Clusters](#section5.2)"
   ]
  },
  {
   "cell_type": "markdown",
   "metadata": {},
   "source": [
    "<a id=\"section1\"></a> \n",
    "## [1.  Loading the data sources]"
   ]
  },
  {
   "cell_type": "code",
   "execution_count": 1,
   "metadata": {
    "collapsed": true
   },
   "outputs": [],
   "source": [
    "import pandas as pd\n",
    "import numpy as np"
   ]
  },
  {
   "cell_type": "markdown",
   "metadata": {},
   "source": [
    "## [1.1 CSV files]<a id=\"section1.1\"></a> "
   ]
  },
  {
   "cell_type": "code",
   "execution_count": 2,
   "metadata": {
    "collapsed": true
   },
   "outputs": [],
   "source": [
    "datahub=pd.read_csv(\"datahub.csv\");\n",
    "macrotrends=pd.read_csv(\"macrotrends.csv\");\n",
    "social_weather=pd.read_csv(\"SW_quandl.csv\");"
   ]
  },
  {
   "cell_type": "markdown",
   "metadata": {},
   "source": [
    "<a id=\"section1.2\"></a>\n",
    "### [1.2 Web Scraping of a suspicious website.]"
   ]
  },
  {
   "cell_type": "code",
   "execution_count": 3,
   "metadata": {},
   "outputs": [
    {
     "name": "stdout",
     "output_type": "stream",
     "text": [
      "<class 'bs4.BeautifulSoup'>\n"
     ]
    },
    {
     "name": "stderr",
     "output_type": "stream",
     "text": [
      "/anaconda3/lib/python3.6/site-packages/bs4/__init__.py:181: UserWarning: No parser was explicitly specified, so I'm using the best available HTML parser for this system (\"lxml\"). This usually isn't a problem, but if you run this code on another system, or in a different virtual environment, it may use a different parser and behave differently.\n",
      "\n",
      "The code that caused this warning is on line 193 of the file /anaconda3/lib/python3.6/runpy.py. To get rid of this warning, change code that looks like this:\n",
      "\n",
      " BeautifulSoup(YOUR_MARKUP})\n",
      "\n",
      "to this:\n",
      "\n",
      " BeautifulSoup(YOUR_MARKUP, \"lxml\")\n",
      "\n",
      "  markup_type=markup_type))\n"
     ]
    }
   ],
   "source": [
    "from bs4 import BeautifulSoup\n",
    "import urllib.request\n",
    "ra = urllib.request.urlopen(\"http://www.multpl.com/s-p-500-historical-prices/table/by-year\")\n",
    "r=ra.read()\n",
    "soup = BeautifulSoup(r)\n",
    "print(type(soup))\n",
    "#print(soup.prettify()[0:1000000])"
   ]
  },
  {
   "cell_type": "code",
   "execution_count": 4,
   "metadata": {},
   "outputs": [
    {
     "name": "stderr",
     "output_type": "stream",
     "text": [
      "/anaconda3/lib/python3.6/site-packages/bs4/__init__.py:181: UserWarning: No parser was explicitly specified, so I'm using the best available HTML parser for this system (\"lxml\"). This usually isn't a problem, but if you run this code on another system, or in a different virtual environment, it may use a different parser and behave differently.\n",
      "\n",
      "The code that caused this warning is on line 193 of the file /anaconda3/lib/python3.6/runpy.py. To get rid of this warning, change code that looks like this:\n",
      "\n",
      " BeautifulSoup(YOUR_MARKUP})\n",
      "\n",
      "to this:\n",
      "\n",
      " BeautifulSoup(YOUR_MARKUP, \"lxml\")\n",
      "\n",
      "  markup_type=markup_type))\n"
     ]
    },
    {
     "name": "stdout",
     "output_type": "stream",
     "text": [
      "149\n",
      "149\n"
     ]
    }
   ],
   "source": [
    "import numbers\n",
    "#a=soup.table\n",
    "trs=soup.findAll('tr')\n",
    "#b=a[0].next_element\n",
    "#print(b)\n",
    "#i=0;\n",
    "date=[]\n",
    "value=[]\n",
    "tables = soup.findAll(\"table\")\n",
    "\n",
    "for table in tables:\n",
    "    if table.findParent(\"table\") is None:\n",
    "        a=str(table)\n",
    "        soup2 = BeautifulSoup(a)\n",
    "        for row in soup2.find_all(\"tr\")[1:]:  #row by row\n",
    "            col = row.find_all(\"td\") # differentiating the td into columns.\n",
    "            col = [ele.text.strip() for ele in col]\n",
    "            #i=i+1;\n",
    "            #print(i)\n",
    "            try:                     #trying to convert them into strings.\n",
    "                date.append(str(col[0]))\n",
    "                value.append(float(col[1].replace(',', '')))\n",
    "                #spam.append(str(col[3])) ## I could've put them in a for loop\n",
    "                # but then I would have to rewrite the code for try and except\n",
    "            except OSError as err:\n",
    "                print(\"OS error: {0}\".format(err))\n",
    "            except ValueError:\n",
    "                print(\"Expected a string and got something else\")\n",
    "            except:\n",
    "                print(\"Unexpected error:\", sys.exc_info()[0])\n",
    "                raise\n",
    "                #print(col)\n",
    "                print(\"---\")\n",
    "            #print(spam)\n",
    "print(len(date))        \n",
    "print(len(value))"
   ]
  },
  {
   "cell_type": "code",
   "execution_count": 5,
   "metadata": {},
   "outputs": [
    {
     "name": "stderr",
     "output_type": "stream",
     "text": [
      "/anaconda3/lib/python3.6/site-packages/ipykernel_launcher.py:3: FutureWarning: to_datetime is deprecated. Use pd.to_datetime(...)\n",
      "  This is separate from the ipykernel package so we can avoid doing imports until\n"
     ]
    }
   ],
   "source": [
    "new_dF=pd.DataFrame(value,date,columns=['multpl_SP500'])\n",
    "# convert it to datetime format so I can extract the year\n",
    "new_dF.index=new_dF.index.to_datetime()\n",
    "#remove the most recent one as we have data only till 2018.\n",
    "new_dF=new_dF[1:]\n",
    "new_dF.index=new_dF.index.year\n",
    "#-1 as the author has shown the dates as January 1st instead of December 31st\n",
    "new_dF.index=new_dF.index-1\n",
    "# set the name of the index column\n",
    "new_dF.index.rename('date', inplace=True)\n",
    "#take values after 1971\n",
    "multpl=new_dF[new_dF.index>1971]\n",
    "multpl=multpl"
   ]
  },
  {
   "cell_type": "code",
   "execution_count": 6,
   "metadata": {
    "collapsed": true
   },
   "outputs": [],
   "source": [
    "datasource_names=['macrotrends','datahub','multpl'];\n",
    "datasource_type=['percent_change','actual_val','actual_val'];\n",
    "datasources=[macrotrends, datahub, multpl];"
   ]
  },
  {
   "cell_type": "markdown",
   "metadata": {},
   "source": [
    "<a id=\"section2\"></a>\n",
    "## [2. Normalizing the data sources]"
   ]
  },
  {
   "cell_type": "markdown",
   "metadata": {},
   "source": [
    "<a id=\"section2.1\"></a>\n",
    "### [2.1 Values only after 1972]"
   ]
  },
  {
   "cell_type": "markdown",
   "metadata": {},
   "source": [
    "### I would only be checking the values from 1972 because that is where the APIs of quandl started."
   ]
  },
  {
   "cell_type": "markdown",
   "metadata": {},
   "source": [
    "This would be already computed and in the database: (Social Weather)\n",
    "I wouldn't really ask for the granularity , I would group them by year itself? Great? Maybe not, but a start."
   ]
  },
  {
   "cell_type": "code",
   "execution_count": 7,
   "metadata": {},
   "outputs": [
    {
     "name": "stdout",
     "output_type": "stream",
     "text": [
      "         SW_SP500\n",
      "count   46.000000\n",
      "mean    31.300808\n",
      "std     26.763327\n",
      "min      3.383571\n",
      "25%      6.575750\n",
      "50%     20.533769\n",
      "75%     49.898737\n",
      "max    100.000000\n"
     ]
    }
   ],
   "source": [
    "social_weather[\"date\"]=pd.to_datetime(social_weather[\"date\"])\n",
    "social_weather=social_weather[(social_weather[\"date\"].dt.year>1971) & (social_weather[\"date\"].dt.year < 2018)];\n",
    "social_weather=social_weather.groupby(social_weather[\"date\"].dt.year).mean();\n",
    "print(social_weather.describe());"
   ]
  },
  {
   "cell_type": "markdown",
   "metadata": {},
   "source": [
    "These are the new csv files or json docs, which would be uploaded:"
   ]
  },
  {
   "cell_type": "code",
   "execution_count": 8,
   "metadata": {},
   "outputs": [
    {
     "name": "stderr",
     "output_type": "stream",
     "text": [
      "/anaconda3/lib/python3.6/site-packages/ipykernel_launcher.py:6: SettingWithCopyWarning: \n",
      "A value is trying to be set on a copy of a slice from a DataFrame.\n",
      "Try using .loc[row_indexer,col_indexer] = value instead\n",
      "\n",
      "See the caveats in the documentation: http://pandas.pydata.org/pandas-docs/stable/indexing.html#indexing-view-versus-copy\n",
      "  \n"
     ]
    },
    {
     "name": "stdout",
     "output_type": "stream",
     "text": [
      "macrotrends\n",
      "       macro_SP500\n",
      "count    46.000000\n",
      "mean      8.751739\n",
      "std      16.021846\n",
      "min     -33.840000\n",
      "25%      -1.825000\n",
      "50%      11.435000\n",
      "75%      20.307500\n",
      "max      38.320000\n",
      "datahub\n",
      "       datahub_SP500\n",
      "count      46.000000\n",
      "mean      763.861322\n",
      "std       653.453690\n",
      "min        82.552500\n",
      "25%       160.435417\n",
      "50%       500.983750\n",
      "75%      1217.431458\n",
      "max      2448.217500\n"
     ]
    }
   ],
   "source": [
    "import datetime as dt\n",
    "for x in range(0,len(datasources)-1):\n",
    "    dF=datasources[x];\n",
    "    dF[\"date\"]=pd.to_datetime(dF[\"date\"]);\n",
    "    dF=dF[(dF[\"date\"].dt.year>1971) & (dF[\"date\"].dt.year < 2018)]\n",
    "    dF[\"date\"]=dF[\"date\"].dt.year\n",
    "    dF=dF.groupby(dF[\"date\"]).mean();\n",
    "    datasources[x]=dF;\n",
    "    print(datasource_names[x]);\n",
    "    print(datasources[x].describe());"
   ]
  },
  {
   "cell_type": "code",
   "execution_count": 9,
   "metadata": {},
   "outputs": [
    {
     "data": {
      "text/html": [
       "<div>\n",
       "<style>\n",
       "    .dataframe thead tr:only-child th {\n",
       "        text-align: right;\n",
       "    }\n",
       "\n",
       "    .dataframe thead th {\n",
       "        text-align: left;\n",
       "    }\n",
       "\n",
       "    .dataframe tbody tr th {\n",
       "        vertical-align: top;\n",
       "    }\n",
       "</style>\n",
       "<table border=\"1\" class=\"dataframe\">\n",
       "  <thead>\n",
       "    <tr style=\"text-align: right;\">\n",
       "      <th></th>\n",
       "      <th>multpl_SP500</th>\n",
       "    </tr>\n",
       "  </thead>\n",
       "  <tbody>\n",
       "    <tr>\n",
       "      <th>count</th>\n",
       "      <td>46.000000</td>\n",
       "    </tr>\n",
       "    <tr>\n",
       "      <th>mean</th>\n",
       "      <td>796.896522</td>\n",
       "    </tr>\n",
       "    <tr>\n",
       "      <th>std</th>\n",
       "      <td>690.995555</td>\n",
       "    </tr>\n",
       "    <tr>\n",
       "      <th>min</th>\n",
       "      <td>72.560000</td>\n",
       "    </tr>\n",
       "    <tr>\n",
       "      <th>25%</th>\n",
       "      <td>167.700000</td>\n",
       "    </tr>\n",
       "    <tr>\n",
       "      <th>50%</th>\n",
       "      <td>543.705000</td>\n",
       "    </tr>\n",
       "    <tr>\n",
       "      <th>75%</th>\n",
       "      <td>1281.647500</td>\n",
       "    </tr>\n",
       "    <tr>\n",
       "      <th>max</th>\n",
       "      <td>2789.800000</td>\n",
       "    </tr>\n",
       "  </tbody>\n",
       "</table>\n",
       "</div>"
      ],
      "text/plain": [
       "       multpl_SP500\n",
       "count     46.000000\n",
       "mean     796.896522\n",
       "std      690.995555\n",
       "min       72.560000\n",
       "25%      167.700000\n",
       "50%      543.705000\n",
       "75%     1281.647500\n",
       "max     2789.800000"
      ]
     },
     "execution_count": 9,
     "metadata": {},
     "output_type": "execute_result"
    }
   ],
   "source": [
    "datasources[x+1].describe()"
   ]
  },
  {
   "cell_type": "code",
   "execution_count": 10,
   "metadata": {},
   "outputs": [
    {
     "data": {
      "text/plain": [
       "46"
      ]
     },
     "execution_count": 10,
     "metadata": {},
     "output_type": "execute_result"
    }
   ],
   "source": [
    "len(multpl)"
   ]
  },
  {
   "cell_type": "markdown",
   "metadata": {},
   "source": [
    "<a id=\"section2.2\"></a>\n",
    "### [2.2 Normalized all data sources on a scale of 1 to 100]"
   ]
  },
  {
   "cell_type": "markdown",
   "metadata": {},
   "source": [
    "We will have have to normalize all of the data sources. I had normalized my datasource to a scale of 0 to 100, with 100 being the highest stock market count."
   ]
  },
  {
   "cell_type": "markdown",
   "metadata": {},
   "source": [
    "Macrotrends, has a change of stock value to the prior year as a percent. So if the stock price went up by 50%, the price would go to +50%, if there is a drop in stocks by 16%, then the price would drop by -15%."
   ]
  },
  {
   "cell_type": "markdown",
   "metadata": {},
   "source": [
    "Datahub, is the actual price level itself, similar to what I had before I had normalized it down to a 100 scale in the Quandl dataset."
   ]
  },
  {
   "cell_type": "markdown",
   "metadata": {},
   "source": [
    "### Let's get all of them to a scale of 100!"
   ]
  },
  {
   "cell_type": "markdown",
   "metadata": {},
   "source": [
    "### Macrotrends: ( change percent each year.)\n",
    "By the rule of hand, always start with the harder one. "
   ]
  },
  {
   "cell_type": "markdown",
   "metadata": {},
   "source": [
    "There are many ways we can go about this. Well, ((after value – before value) / before value) * 100 = % change"
   ]
  },
  {
   "cell_type": "markdown",
   "metadata": {},
   "source": [
    "I will be selecting my own primary source from social weather to make it the first value. After which, I will use the formula to calculate it it."
   ]
  },
  {
   "cell_type": "code",
   "execution_count": 11,
   "metadata": {
    "collapsed": true
   },
   "outputs": [],
   "source": [
    "all_sources=pd.concat([datasources[0],social_weather], axis=1)\n",
    "for x in range(1,len(datasources)):\n",
    "    all_sources=pd.concat([datasources[x],all_sources], axis=1)"
   ]
  },
  {
   "cell_type": "code",
   "execution_count": 12,
   "metadata": {},
   "outputs": [
    {
     "data": {
      "text/html": [
       "<div>\n",
       "<style>\n",
       "    .dataframe thead tr:only-child th {\n",
       "        text-align: right;\n",
       "    }\n",
       "\n",
       "    .dataframe thead th {\n",
       "        text-align: left;\n",
       "    }\n",
       "\n",
       "    .dataframe tbody tr th {\n",
       "        vertical-align: top;\n",
       "    }\n",
       "</style>\n",
       "<table border=\"1\" class=\"dataframe\">\n",
       "  <thead>\n",
       "    <tr style=\"text-align: right;\">\n",
       "      <th></th>\n",
       "      <th>multpl_SP500</th>\n",
       "      <th>datahub_SP500</th>\n",
       "      <th>macro_SP500</th>\n",
       "      <th>SW_SP500</th>\n",
       "    </tr>\n",
       "    <tr>\n",
       "      <th>date</th>\n",
       "      <th></th>\n",
       "      <th></th>\n",
       "      <th></th>\n",
       "      <th></th>\n",
       "    </tr>\n",
       "  </thead>\n",
       "  <tbody>\n",
       "    <tr>\n",
       "      <th>1972</th>\n",
       "      <td>118.40</td>\n",
       "      <td>109.208333</td>\n",
       "      <td>14.58</td>\n",
       "      <td>4.476111</td>\n",
       "    </tr>\n",
       "    <tr>\n",
       "      <th>1973</th>\n",
       "      <td>96.11</td>\n",
       "      <td>107.423333</td>\n",
       "      <td>-16.58</td>\n",
       "      <td>4.402949</td>\n",
       "    </tr>\n",
       "    <tr>\n",
       "      <th>1974</th>\n",
       "      <td>72.56</td>\n",
       "      <td>82.552500</td>\n",
       "      <td>-27.57</td>\n",
       "      <td>3.383571</td>\n",
       "    </tr>\n",
       "    <tr>\n",
       "      <th>1975</th>\n",
       "      <td>96.86</td>\n",
       "      <td>86.155833</td>\n",
       "      <td>38.32</td>\n",
       "      <td>3.531260</td>\n",
       "    </tr>\n",
       "    <tr>\n",
       "      <th>1976</th>\n",
       "      <td>103.80</td>\n",
       "      <td>102.021667</td>\n",
       "      <td>17.86</td>\n",
       "      <td>4.181551</td>\n",
       "    </tr>\n",
       "  </tbody>\n",
       "</table>\n",
       "</div>"
      ],
      "text/plain": [
       "      multpl_SP500  datahub_SP500  macro_SP500  SW_SP500\n",
       "date                                                    \n",
       "1972        118.40     109.208333        14.58  4.476111\n",
       "1973         96.11     107.423333       -16.58  4.402949\n",
       "1974         72.56      82.552500       -27.57  3.383571\n",
       "1975         96.86      86.155833        38.32  3.531260\n",
       "1976        103.80     102.021667        17.86  4.181551"
      ]
     },
     "execution_count": 12,
     "metadata": {},
     "output_type": "execute_result"
    }
   ],
   "source": [
    "all_sources.head()"
   ]
  },
  {
   "cell_type": "code",
   "execution_count": 13,
   "metadata": {},
   "outputs": [
    {
     "data": {
      "text/html": [
       "<div>\n",
       "<style>\n",
       "    .dataframe thead tr:only-child th {\n",
       "        text-align: right;\n",
       "    }\n",
       "\n",
       "    .dataframe thead th {\n",
       "        text-align: left;\n",
       "    }\n",
       "\n",
       "    .dataframe tbody tr th {\n",
       "        vertical-align: top;\n",
       "    }\n",
       "</style>\n",
       "<table border=\"1\" class=\"dataframe\">\n",
       "  <thead>\n",
       "    <tr style=\"text-align: right;\">\n",
       "      <th></th>\n",
       "      <th>multpl_SP500</th>\n",
       "      <th>datahub_SP500</th>\n",
       "      <th>macro_SP500</th>\n",
       "      <th>SW_SP500</th>\n",
       "    </tr>\n",
       "    <tr>\n",
       "      <th>date</th>\n",
       "      <th></th>\n",
       "      <th></th>\n",
       "      <th></th>\n",
       "      <th></th>\n",
       "    </tr>\n",
       "  </thead>\n",
       "  <tbody>\n",
       "    <tr>\n",
       "      <th>2013</th>\n",
       "      <td>1822.36</td>\n",
       "      <td>1642.511667</td>\n",
       "      <td>26.50</td>\n",
       "      <td>67.321455</td>\n",
       "    </tr>\n",
       "    <tr>\n",
       "      <th>2014</th>\n",
       "      <td>2028.18</td>\n",
       "      <td>1930.667500</td>\n",
       "      <td>7.52</td>\n",
       "      <td>79.132068</td>\n",
       "    </tr>\n",
       "    <tr>\n",
       "      <th>2015</th>\n",
       "      <td>1918.60</td>\n",
       "      <td>2061.199167</td>\n",
       "      <td>-2.23</td>\n",
       "      <td>84.482156</td>\n",
       "    </tr>\n",
       "    <tr>\n",
       "      <th>2016</th>\n",
       "      <td>2275.12</td>\n",
       "      <td>2091.844167</td>\n",
       "      <td>13.42</td>\n",
       "      <td>85.738200</td>\n",
       "    </tr>\n",
       "    <tr>\n",
       "      <th>2017</th>\n",
       "      <td>2789.80</td>\n",
       "      <td>2448.217500</td>\n",
       "      <td>25.08</td>\n",
       "      <td>100.000000</td>\n",
       "    </tr>\n",
       "  </tbody>\n",
       "</table>\n",
       "</div>"
      ],
      "text/plain": [
       "      multpl_SP500  datahub_SP500  macro_SP500    SW_SP500\n",
       "date                                                      \n",
       "2013       1822.36    1642.511667        26.50   67.321455\n",
       "2014       2028.18    1930.667500         7.52   79.132068\n",
       "2015       1918.60    2061.199167        -2.23   84.482156\n",
       "2016       2275.12    2091.844167        13.42   85.738200\n",
       "2017       2789.80    2448.217500        25.08  100.000000"
      ]
     },
     "execution_count": 13,
     "metadata": {},
     "output_type": "execute_result"
    }
   ],
   "source": [
    "all_sources.tail()"
   ]
  },
  {
   "cell_type": "code",
   "execution_count": 14,
   "metadata": {},
   "outputs": [
    {
     "data": {
      "text/plain": [
       "Index(['multpl_SP500', 'datahub_SP500', 'macro_SP500', 'SW_SP500'], dtype='object')"
      ]
     },
     "execution_count": 14,
     "metadata": {},
     "output_type": "execute_result"
    }
   ],
   "source": [
    "all_sources.columns"
   ]
  },
  {
   "cell_type": "markdown",
   "metadata": {},
   "source": [
    "I would ask the user about how the data is represented? I can't make an assumption. I have taken three examples in the synthetic data. Complete Value- Datahub, Percent change- macrotrends ,Normalized- Social Weather(Trusted).  "
   ]
  },
  {
   "cell_type": "code",
   "execution_count": 15,
   "metadata": {
    "collapsed": true
   },
   "outputs": [],
   "source": [
    "def actual_val_norm(current_col):\n",
    "    dF_norm=(all_sources[current_col]/all_sources[current_col].max())*100\n",
    "    return dF_norm;\n",
    "\n",
    "def percent_change_norm(current_col):\n",
    "    #Let's take the database with the highest external reliability:\n",
    "    before_value=all_sources[all_sources.columns[col_total-1]].loc[1972]\n",
    "    for x in range(1973,2018):\n",
    "        all_sources[current_col].loc[x-1]=before_value\n",
    "        change=all_sources[current_col].loc[x]\n",
    "        #print(change)\n",
    "        #print([all_sources.columns[col_total-1]])\n",
    "        after_value=((change * before_value)/100)+before_value\n",
    "        before_value=after_value\n",
    "        #print(after_value,x)\n",
    "    all_sources[current_col].loc[x]=before_value\n",
    "    return;"
   ]
  },
  {
   "cell_type": "code",
   "execution_count": 16,
   "metadata": {},
   "outputs": [],
   "source": [
    "col_total=len(all_sources.columns)\n",
    "for x in range(1,len(all_sources.columns)):\n",
    "    current_col=all_sources.columns[col_total-(x+1)]\n",
    "    if((datasource_type[x-1])=='percent_change'):\n",
    "        #print(\"percent_change\",current_col)\n",
    "        percent_change_norm(current_col)\n",
    "        all_sources[current_col]=actual_val_norm(current_col)\n",
    "        #print(all_sources[current_col]);\n",
    "    elif((datasource_type[x-1])=='actual_val'):\n",
    "        #print(\"actual_val\",current_col)\n",
    "        all_sources[current_col]=actual_val_norm(current_col);\n",
    "        #print(all_sources[current_col]);\n",
    "        #print(all_sources[current_col])\n",
    "        #print((all_sources[current_col]/all_sources[current_col].max())*100) # You could even do min-max.. Anything is good."
   ]
  },
  {
   "cell_type": "code",
   "execution_count": 17,
   "metadata": {},
   "outputs": [
    {
     "data": {
      "text/html": [
       "<div>\n",
       "<style>\n",
       "    .dataframe thead tr:only-child th {\n",
       "        text-align: right;\n",
       "    }\n",
       "\n",
       "    .dataframe thead th {\n",
       "        text-align: left;\n",
       "    }\n",
       "\n",
       "    .dataframe tbody tr th {\n",
       "        vertical-align: top;\n",
       "    }\n",
       "</style>\n",
       "<table border=\"1\" class=\"dataframe\">\n",
       "  <thead>\n",
       "    <tr style=\"text-align: right;\">\n",
       "      <th></th>\n",
       "      <th>multpl_SP500</th>\n",
       "      <th>datahub_SP500</th>\n",
       "      <th>macro_SP500</th>\n",
       "      <th>SW_SP500</th>\n",
       "    </tr>\n",
       "    <tr>\n",
       "      <th>date</th>\n",
       "      <th></th>\n",
       "      <th></th>\n",
       "      <th></th>\n",
       "      <th></th>\n",
       "    </tr>\n",
       "  </thead>\n",
       "  <tbody>\n",
       "    <tr>\n",
       "      <th>1972</th>\n",
       "      <td>4.244032</td>\n",
       "      <td>4.460728</td>\n",
       "      <td>4.126498</td>\n",
       "      <td>4.476111</td>\n",
       "    </tr>\n",
       "    <tr>\n",
       "      <th>1973</th>\n",
       "      <td>3.445050</td>\n",
       "      <td>4.387818</td>\n",
       "      <td>3.442324</td>\n",
       "      <td>4.402949</td>\n",
       "    </tr>\n",
       "    <tr>\n",
       "      <th>1974</th>\n",
       "      <td>2.600903</td>\n",
       "      <td>3.371943</td>\n",
       "      <td>2.493276</td>\n",
       "      <td>3.383571</td>\n",
       "    </tr>\n",
       "    <tr>\n",
       "      <th>1975</th>\n",
       "      <td>3.471933</td>\n",
       "      <td>3.519125</td>\n",
       "      <td>3.448699</td>\n",
       "      <td>3.531260</td>\n",
       "    </tr>\n",
       "    <tr>\n",
       "      <th>1976</th>\n",
       "      <td>3.720697</td>\n",
       "      <td>4.167181</td>\n",
       "      <td>4.064636</td>\n",
       "      <td>4.181551</td>\n",
       "    </tr>\n",
       "  </tbody>\n",
       "</table>\n",
       "</div>"
      ],
      "text/plain": [
       "      multpl_SP500  datahub_SP500  macro_SP500  SW_SP500\n",
       "date                                                    \n",
       "1972      4.244032       4.460728     4.126498  4.476111\n",
       "1973      3.445050       4.387818     3.442324  4.402949\n",
       "1974      2.600903       3.371943     2.493276  3.383571\n",
       "1975      3.471933       3.519125     3.448699  3.531260\n",
       "1976      3.720697       4.167181     4.064636  4.181551"
      ]
     },
     "execution_count": 17,
     "metadata": {},
     "output_type": "execute_result"
    }
   ],
   "source": [
    "all_sources.head()"
   ]
  },
  {
   "cell_type": "markdown",
   "metadata": {},
   "source": [
    "## Something doesn't seem right. Let's ignore this, it seems macrotrends has not leveled the prices, not cool by macrotrends, they never mentioned it, but well, let's move on."
   ]
  },
  {
   "cell_type": "markdown",
   "metadata": {},
   "source": [
    "<a id=\"section3\"></a>\n",
    "## [3. Plotting normalized Data Sources]"
   ]
  },
  {
   "cell_type": "code",
   "execution_count": 18,
   "metadata": {},
   "outputs": [
    {
     "data": {
      "text/html": [
       "<div>\n",
       "<style>\n",
       "    .dataframe thead tr:only-child th {\n",
       "        text-align: right;\n",
       "    }\n",
       "\n",
       "    .dataframe thead th {\n",
       "        text-align: left;\n",
       "    }\n",
       "\n",
       "    .dataframe tbody tr th {\n",
       "        vertical-align: top;\n",
       "    }\n",
       "</style>\n",
       "<table border=\"1\" class=\"dataframe\">\n",
       "  <thead>\n",
       "    <tr style=\"text-align: right;\">\n",
       "      <th></th>\n",
       "      <th>multpl_SP500</th>\n",
       "      <th>datahub_SP500</th>\n",
       "      <th>macro_SP500</th>\n",
       "      <th>SW_SP500</th>\n",
       "    </tr>\n",
       "  </thead>\n",
       "  <tbody>\n",
       "    <tr>\n",
       "      <th>multpl_SP500</th>\n",
       "      <td>1.000000</td>\n",
       "      <td>0.989302</td>\n",
       "      <td>0.996573</td>\n",
       "      <td>0.989204</td>\n",
       "    </tr>\n",
       "    <tr>\n",
       "      <th>datahub_SP500</th>\n",
       "      <td>0.989302</td>\n",
       "      <td>1.000000</td>\n",
       "      <td>0.990602</td>\n",
       "      <td>0.999998</td>\n",
       "    </tr>\n",
       "    <tr>\n",
       "      <th>macro_SP500</th>\n",
       "      <td>0.996573</td>\n",
       "      <td>0.990602</td>\n",
       "      <td>1.000000</td>\n",
       "      <td>0.990509</td>\n",
       "    </tr>\n",
       "    <tr>\n",
       "      <th>SW_SP500</th>\n",
       "      <td>0.989204</td>\n",
       "      <td>0.999998</td>\n",
       "      <td>0.990509</td>\n",
       "      <td>1.000000</td>\n",
       "    </tr>\n",
       "  </tbody>\n",
       "</table>\n",
       "</div>"
      ],
      "text/plain": [
       "               multpl_SP500  datahub_SP500  macro_SP500  SW_SP500\n",
       "multpl_SP500       1.000000       0.989302     0.996573  0.989204\n",
       "datahub_SP500      0.989302       1.000000     0.990602  0.999998\n",
       "macro_SP500        0.996573       0.990602     1.000000  0.990509\n",
       "SW_SP500           0.989204       0.999998     0.990509  1.000000"
      ]
     },
     "execution_count": 18,
     "metadata": {},
     "output_type": "execute_result"
    }
   ],
   "source": [
    "all_sources.corr() # the correlation is strong, it could be because the variation is extremely similar."
   ]
  },
  {
   "cell_type": "markdown",
   "metadata": {},
   "source": [
    "### By looking at the data and the graph itself I can see that the Social Weather and Datahub are much more similar, than multpl(Bad source) and macrotrends(not it's fault, it's not a level price, means that it's the actual price of the stock(patterns are the same.)\n",
    "\n",
    "### I would want Social Weather and Datahub in one cluster. The others in their own cluster.\n",
    "\n",
    "### For the sake of now, I haven't taken any external review into account."
   ]
  },
  {
   "cell_type": "code",
   "execution_count": 19,
   "metadata": {},
   "outputs": [
    {
     "data": {
      "image/png": "[encoded data removed]",
      "text/plain": [
       "<matplotlib.figure.Figure at 0x10d43e4e0>"
      ]
     },
     "metadata": {},
     "output_type": "display_data"
    }
   ],
   "source": [
    "import matplotlib.pyplot as plt\n",
    "all_sources.plot(legend=True)\n",
    "plt.show()\n",
    "#Social weather and datahub are "
   ]
  },
  {
   "cell_type": "markdown",
   "metadata": {},
   "source": [
    "<a id=\"section4\"></a>\n",
    "## [4. Creating a model(Feature Selection-like)]"
   ]
  },
  {
   "cell_type": "markdown",
   "metadata": {},
   "source": [
    "<a id=\"section4.1\"></a>\n",
    "### [4.1 Mean, Median of different distance algorithms]"
   ]
  },
  {
   "cell_type": "code",
   "execution_count": 20,
   "metadata": {},
   "outputs": [],
   "source": [
    "from scipy.spatial.distance import cdist\n",
    "import statistics as s"
   ]
  },
  {
   "cell_type": "code",
   "execution_count": 21,
   "metadata": {
    "collapsed": true
   },
   "outputs": [],
   "source": [
    "# I made this function which will be parsed below and return the mean mode and"
   ]
  },
  {
   "cell_type": "code",
   "execution_count": 22,
   "metadata": {},
   "outputs": [],
   "source": [
    "def computeStatCdist(metric):\n",
    "    print(metric)\n",
    "    mean_cdist=[]\n",
    "    median_cdist=[]\n",
    "    for i in range(0,len(all_sources.columns)):\n",
    "        cdist_arr=[]\n",
    "        cdist_arr=[]\n",
    "        cdist_complete_arr=cdist(all_sources[[all_sources.columns[len(all_sources.columns)-1]]],all_sources[[all_sources.columns[i]]], metric)\n",
    "        for j in range(0,len(cdist_complete_arr)):\n",
    "            cdist_arr.append(cdist_complete_arr[j][j])\n",
    "        mean_cdist_curr=s.mean(cdist_arr)\n",
    "        median_cdist_curr=s.median(cdist_arr)\n",
    "        print(all_sources.columns[i],\" : Mean : \",mean_cdist_curr)\n",
    "        mean_cdist.append(mean_cdist_curr)\n",
    "        #global_stat[1][0].append(mean_cdist_curr)\n",
    "        print(all_sources.columns[i],\" : Median : \",median_cdist_curr)\n",
    "        median_cdist.append(median_cdist_curr)\n",
    "    return(mean_cdist,median_cdist)"
   ]
  },
  {
   "cell_type": "code",
   "execution_count": 23,
   "metadata": {},
   "outputs": [
    {
     "name": "stdout",
     "output_type": "stream",
     "text": [
      "Computing the distance from Social Weather\n",
      "euclidean\n",
      "multpl_SP500  : Mean :  2.87320115395\n",
      "multpl_SP500  : Median :  1.07107751615\n",
      "datahub_SP500  : Mean :  0.100094978087\n",
      "datahub_SP500  : Median :  0.0642099267312\n",
      "macro_SP500  : Mean :  3.56030094679\n",
      "macro_SP500  : Median :  2.59354051315\n",
      "SW_SP500  : Mean :  0.0\n",
      "SW_SP500  : Median :  0.0\n",
      "cityblock\n",
      "multpl_SP500  : Mean :  2.87320115395\n",
      "multpl_SP500  : Median :  1.07107751615\n",
      "datahub_SP500  : Mean :  0.100094978087\n",
      "datahub_SP500  : Median :  0.0642099267312\n",
      "macro_SP500  : Mean :  3.56030094679\n",
      "macro_SP500  : Median :  2.59354051315\n",
      "SW_SP500  : Mean :  0.0\n",
      "SW_SP500  : Median :  0.0\n",
      "minkowski\n",
      "multpl_SP500  : Mean :  2.87320115395\n",
      "multpl_SP500  : Median :  1.07107751615\n",
      "datahub_SP500  : Mean :  0.100094978087\n",
      "datahub_SP500  : Median :  0.0642099267312\n",
      "macro_SP500  : Mean :  3.56030094679\n",
      "macro_SP500  : Median :  2.59354051315\n",
      "SW_SP500  : Mean :  0.0\n",
      "SW_SP500  : Median :  0.0\n",
      "chebyshev\n",
      "multpl_SP500  : Mean :  2.87320115395\n",
      "multpl_SP500  : Median :  1.07107751615\n",
      "datahub_SP500  : Mean :  0.100094978087\n",
      "datahub_SP500  : Median :  0.0642099267312\n",
      "macro_SP500  : Mean :  3.56030094679\n",
      "macro_SP500  : Median :  2.59354051315\n",
      "SW_SP500  : Mean :  0.0\n",
      "SW_SP500  : Median :  0.0\n",
      "canberra\n",
      "multpl_SP500  : Mean :  0.0513008589004\n",
      "multpl_SP500  : Median :  0.0358207837864\n",
      "datahub_SP500  : Mean :  0.00168379669598\n",
      "datahub_SP500  : Median :  0.00172121438942\n",
      "macro_SP500  : Mean :  0.08075794952\n",
      "macro_SP500  : Median :  0.0896057135383\n",
      "SW_SP500  : Mean :  0.0\n",
      "SW_SP500  : Median :  0.0\n",
      "mahalanobis\n",
      "multpl_SP500  : Mean :  0.111884435143\n",
      "multpl_SP500  : Median :  0.0417084974103\n",
      "datahub_SP500  : Mean :  0.00376580386707\n",
      "datahub_SP500  : Median :  0.00241572549403\n",
      "macro_SP500  : Mean :  0.137793353285\n",
      "macro_SP500  : Median :  0.100377088771\n",
      "SW_SP500  : Mean :  0.0\n",
      "SW_SP500  : Median :  0.0\n"
     ]
    }
   ],
   "source": [
    "arr_metrics=['euclidean','cityblock','minkowski','chebyshev','canberra','mahalanobis']\n",
    "computed_stats=[[],[]]\n",
    "computed_stat={}\n",
    "global_stat=[[],[]]\n",
    "print(\"Computing the distance from Social Weather\")\n",
    "for x in range(0,len(arr_metrics)):\n",
    "    computed_stats[0].append(arr_metrics[x]+\"Mean\");\n",
    "    computed_stats[0].append(arr_metrics[x]+\"Median\");\n",
    "    computed_stats[1].append(computeStatCdist(arr_metrics[x]))"
   ]
  },
  {
   "cell_type": "markdown",
   "metadata": {},
   "source": [
    "<a id=\"section4.2\"></a>\n",
    "### 4.2 Plugging all the values into a dataframe]"
   ]
  },
  {
   "cell_type": "code",
   "execution_count": 24,
   "metadata": {},
   "outputs": [],
   "source": [
    "column_name_index=0;\n",
    "JSON_arr={}\n",
    "for x in range(0,len(computed_stats[1])):\n",
    "    JSON_arr[computed_stats[0][column_name_index]]=computed_stats[1][x][0]\n",
    "    column_name_index+=1;\n",
    "    JSON_arr[computed_stats[0][column_name_index]]=computed_stats[1][x][1]\n",
    "    column_name_index+=1;"
   ]
  },
  {
   "cell_type": "code",
   "execution_count": 25,
   "metadata": {},
   "outputs": [],
   "source": [
    "dF=pd.DataFrame(JSON_arr)"
   ]
  },
  {
   "cell_type": "code",
   "execution_count": 26,
   "metadata": {},
   "outputs": [],
   "source": [
    "dF.index=all_sources.columns"
   ]
  },
  {
   "cell_type": "code",
   "execution_count": 27,
   "metadata": {},
   "outputs": [
    {
     "data": {
      "text/html": [
       "<div>\n",
       "<style>\n",
       "    .dataframe thead tr:only-child th {\n",
       "        text-align: right;\n",
       "    }\n",
       "\n",
       "    .dataframe thead th {\n",
       "        text-align: left;\n",
       "    }\n",
       "\n",
       "    .dataframe tbody tr th {\n",
       "        vertical-align: top;\n",
       "    }\n",
       "</style>\n",
       "<table border=\"1\" class=\"dataframe\">\n",
       "  <thead>\n",
       "    <tr style=\"text-align: right;\">\n",
       "      <th></th>\n",
       "      <th>canberraMean</th>\n",
       "      <th>canberraMedian</th>\n",
       "      <th>chebyshevMean</th>\n",
       "      <th>chebyshevMedian</th>\n",
       "      <th>cityblockMean</th>\n",
       "      <th>cityblockMedian</th>\n",
       "      <th>euclideanMean</th>\n",
       "      <th>euclideanMedian</th>\n",
       "      <th>mahalanobisMean</th>\n",
       "      <th>mahalanobisMedian</th>\n",
       "      <th>minkowskiMean</th>\n",
       "      <th>minkowskiMedian</th>\n",
       "    </tr>\n",
       "  </thead>\n",
       "  <tbody>\n",
       "    <tr>\n",
       "      <th>multpl_SP500</th>\n",
       "      <td>0.051301</td>\n",
       "      <td>0.035821</td>\n",
       "      <td>2.873201</td>\n",
       "      <td>1.071078</td>\n",
       "      <td>2.873201</td>\n",
       "      <td>1.071078</td>\n",
       "      <td>2.873201</td>\n",
       "      <td>1.071078</td>\n",
       "      <td>0.111884</td>\n",
       "      <td>0.041708</td>\n",
       "      <td>2.873201</td>\n",
       "      <td>1.071078</td>\n",
       "    </tr>\n",
       "    <tr>\n",
       "      <th>datahub_SP500</th>\n",
       "      <td>0.001684</td>\n",
       "      <td>0.001721</td>\n",
       "      <td>0.100095</td>\n",
       "      <td>0.064210</td>\n",
       "      <td>0.100095</td>\n",
       "      <td>0.064210</td>\n",
       "      <td>0.100095</td>\n",
       "      <td>0.064210</td>\n",
       "      <td>0.003766</td>\n",
       "      <td>0.002416</td>\n",
       "      <td>0.100095</td>\n",
       "      <td>0.064210</td>\n",
       "    </tr>\n",
       "    <tr>\n",
       "      <th>macro_SP500</th>\n",
       "      <td>0.080758</td>\n",
       "      <td>0.089606</td>\n",
       "      <td>3.560301</td>\n",
       "      <td>2.593541</td>\n",
       "      <td>3.560301</td>\n",
       "      <td>2.593541</td>\n",
       "      <td>3.560301</td>\n",
       "      <td>2.593541</td>\n",
       "      <td>0.137793</td>\n",
       "      <td>0.100377</td>\n",
       "      <td>3.560301</td>\n",
       "      <td>2.593541</td>\n",
       "    </tr>\n",
       "    <tr>\n",
       "      <th>SW_SP500</th>\n",
       "      <td>0.000000</td>\n",
       "      <td>0.000000</td>\n",
       "      <td>0.000000</td>\n",
       "      <td>0.000000</td>\n",
       "      <td>0.000000</td>\n",
       "      <td>0.000000</td>\n",
       "      <td>0.000000</td>\n",
       "      <td>0.000000</td>\n",
       "      <td>0.000000</td>\n",
       "      <td>0.000000</td>\n",
       "      <td>0.000000</td>\n",
       "      <td>0.000000</td>\n",
       "    </tr>\n",
       "  </tbody>\n",
       "</table>\n",
       "</div>"
      ],
      "text/plain": [
       "               canberraMean  canberraMedian  chebyshevMean  chebyshevMedian  \\\n",
       "multpl_SP500       0.051301        0.035821       2.873201         1.071078   \n",
       "datahub_SP500      0.001684        0.001721       0.100095         0.064210   \n",
       "macro_SP500        0.080758        0.089606       3.560301         2.593541   \n",
       "SW_SP500           0.000000        0.000000       0.000000         0.000000   \n",
       "\n",
       "               cityblockMean  cityblockMedian  euclideanMean  euclideanMedian  \\\n",
       "multpl_SP500        2.873201         1.071078       2.873201         1.071078   \n",
       "datahub_SP500       0.100095         0.064210       0.100095         0.064210   \n",
       "macro_SP500         3.560301         2.593541       3.560301         2.593541   \n",
       "SW_SP500            0.000000         0.000000       0.000000         0.000000   \n",
       "\n",
       "               mahalanobisMean  mahalanobisMedian  minkowskiMean  \\\n",
       "multpl_SP500          0.111884           0.041708       2.873201   \n",
       "datahub_SP500         0.003766           0.002416       0.100095   \n",
       "macro_SP500           0.137793           0.100377       3.560301   \n",
       "SW_SP500              0.000000           0.000000       0.000000   \n",
       "\n",
       "               minkowskiMedian  \n",
       "multpl_SP500          1.071078  \n",
       "datahub_SP500         0.064210  \n",
       "macro_SP500           2.593541  \n",
       "SW_SP500              0.000000  "
      ]
     },
     "execution_count": 27,
     "metadata": {},
     "output_type": "execute_result"
    }
   ],
   "source": [
    "dF"
   ]
  },
  {
   "cell_type": "markdown",
   "metadata": {},
   "source": [
    "<a id=\"section5\"></a>\n",
    "## [5. Clustering]"
   ]
  },
  {
   "cell_type": "markdown",
   "metadata": {},
   "source": [
    "# Clustering"
   ]
  },
  {
   "cell_type": "markdown",
   "metadata": {},
   "source": [
    "### I've used Gaussian Mixture models to do the clustering. This could be improved but a good baseline)"
   ]
  },
  {
   "cell_type": "markdown",
   "metadata": {},
   "source": [
    "<a id=\"section5.1\"></a>\n",
    "### [5.1 Using Gaussian Mixture Model]"
   ]
  },
  {
   "cell_type": "code",
   "execution_count": 28,
   "metadata": {},
   "outputs": [],
   "source": [
    "from sklearn.mixture import GaussianMixture\n",
    "def fit_samples(samples):\n",
    "    gmix = GaussianMixture(n_components=2, covariance_type='full')\n",
    "    gmix.fit(samples)\n",
    "    print(gmix.means_)\n",
    "    colors = ['r' if i==0 else 'g' for i in gmix.predict(samples)]\n",
    "    ax = plt.gca()\n",
    "    ax.scatter(dF[\"canberraMean\"], dF[\"canberraMedian\"], c=colors, alpha=0.8)\n",
    "    clusters = gmix.predict(dF)\n",
    "    plt.show()\n",
    "    return clusters"
   ]
  },
  {
   "cell_type": "code",
   "execution_count": 29,
   "metadata": {},
   "outputs": [
    {
     "name": "stdout",
     "output_type": "stream",
     "text": [
      "[[  8.41898348e-04   8.60607195e-04   5.00474890e-02   3.21049634e-02\n",
      "    5.00474890e-02   3.21049634e-02   5.00474890e-02   3.21049634e-02\n",
      "    1.88290193e-03   1.20786275e-03   5.00474890e-02   3.21049634e-02]\n",
      " [  6.60294042e-02   6.27132487e-02   3.21675105e+00   1.83230901e+00\n",
      "    3.21675105e+00   1.83230901e+00   3.21675105e+00   1.83230901e+00\n",
      "    1.24838894e-01   7.10427931e-02   3.21675105e+00   1.83230901e+00]]\n"
     ]
    },
    {
     "data": {
      "image/png": "[encoded data removed]",
      "text/plain": [
       "<matplotlib.figure.Figure at 0x1171a30f0>"
      ]
     },
     "metadata": {},
     "output_type": "display_data"
    }
   ],
   "source": [
    "clusters=fit_samples(dF)"
   ]
  },
  {
   "cell_type": "markdown",
   "metadata": {},
   "source": [
    "## We have the clusters now"
   ]
  },
  {
   "cell_type": "markdown",
   "metadata": {},
   "source": [
    "<a id=\"section5.2\"></a>\n",
    "### [5.2 Final Clusters]"
   ]
  },
  {
   "cell_type": "code",
   "execution_count": 30,
   "metadata": {},
   "outputs": [],
   "source": [
    "JSON_clusters_arr={}\n",
    "JSON_clusters_arr[\"Data Sources\"]=dF.index.values\n",
    "JSON_clusters_arr[\"Cluster\"]=clusters"
   ]
  },
  {
   "cell_type": "code",
   "execution_count": 31,
   "metadata": {},
   "outputs": [
    {
     "data": {
      "text/html": [
       "<div>\n",
       "<style>\n",
       "    .dataframe thead tr:only-child th {\n",
       "        text-align: right;\n",
       "    }\n",
       "\n",
       "    .dataframe thead th {\n",
       "        text-align: left;\n",
       "    }\n",
       "\n",
       "    .dataframe tbody tr th {\n",
       "        vertical-align: top;\n",
       "    }\n",
       "</style>\n",
       "<table border=\"1\" class=\"dataframe\">\n",
       "  <thead>\n",
       "    <tr style=\"text-align: right;\">\n",
       "      <th></th>\n",
       "      <th>Cluster</th>\n",
       "      <th>Data Sources</th>\n",
       "    </tr>\n",
       "  </thead>\n",
       "  <tbody>\n",
       "    <tr>\n",
       "      <th>0</th>\n",
       "      <td>1</td>\n",
       "      <td>multpl_SP500</td>\n",
       "    </tr>\n",
       "    <tr>\n",
       "      <th>1</th>\n",
       "      <td>0</td>\n",
       "      <td>datahub_SP500</td>\n",
       "    </tr>\n",
       "    <tr>\n",
       "      <th>2</th>\n",
       "      <td>1</td>\n",
       "      <td>macro_SP500</td>\n",
       "    </tr>\n",
       "    <tr>\n",
       "      <th>3</th>\n",
       "      <td>0</td>\n",
       "      <td>SW_SP500</td>\n",
       "    </tr>\n",
       "  </tbody>\n",
       "</table>\n",
       "</div>"
      ],
      "text/plain": [
       "   Cluster   Data Sources\n",
       "0        1   multpl_SP500\n",
       "1        0  datahub_SP500\n",
       "2        1    macro_SP500\n",
       "3        0       SW_SP500"
      ]
     },
     "execution_count": 31,
     "metadata": {},
     "output_type": "execute_result"
    }
   ],
   "source": [
    "pd.DataFrame(JSON_clusters_arr)"
   ]
  },
  {
   "cell_type": "markdown",
   "metadata": {},
   "source": [
    "I have shown the clusters which have been plotted by using the model and it seems to be right. This was great for a 1-D datasource."
   ]
  }
 ],
 "metadata": {
  "kernelspec": {
   "display_name": "Python 3",
   "language": "python",
   "name": "python3"
  },
  "language_info": {
   "codemirror_mode": {
    "name": "ipython",
    "version": 3
   },
   "file_extension": ".py",
   "mimetype": "text/x-python",
   "name": "python",
   "nbconvert_exporter": "python",
   "pygments_lexer": "ipython3",
   "version": "3.6.3"
  }
 },
 "nbformat": 4,
 "nbformat_minor": 2
}
